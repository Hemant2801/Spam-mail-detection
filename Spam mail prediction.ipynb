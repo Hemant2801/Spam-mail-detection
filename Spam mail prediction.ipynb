{
 "cells": [
  {
   "cell_type": "markdown",
   "id": "0d8773ea",
   "metadata": {},
   "source": [
    "# Importing the necessary dependencies"
   ]
  },
  {
   "cell_type": "code",
   "execution_count": 1,
   "id": "387421b3",
   "metadata": {},
   "outputs": [],
   "source": [
    "import pandas as pd\n",
    "import numpy as np\n",
    "from sklearn.model_selection import train_test_split\n",
    "from sklearn.feature_extraction.text import TfidfVectorizer\n",
    "from sklearn.linear_model import LogisticRegression\n",
    "from sklearn.metrics import accuracy_score"
   ]
  },
  {
   "cell_type": "markdown",
   "id": "76522d48",
   "metadata": {},
   "source": [
    "# Data collection and preprocessing"
   ]
  },
  {
   "cell_type": "code",
   "execution_count": 2,
   "id": "4773de08",
   "metadata": {},
   "outputs": [],
   "source": [
    "raw_df = pd.read_csv('C:/Users/Hemant/jupyter_codes/ML Project 1/Spam mail prediction/mail_data.csv')"
   ]
  },
  {
   "cell_type": "code",
   "execution_count": 3,
   "id": "dbf56191",
   "metadata": {},
   "outputs": [
    {
     "data": {
      "text/html": [
       "<div>\n",
       "<style scoped>\n",
       "    .dataframe tbody tr th:only-of-type {\n",
       "        vertical-align: middle;\n",
       "    }\n",
       "\n",
       "    .dataframe tbody tr th {\n",
       "        vertical-align: top;\n",
       "    }\n",
       "\n",
       "    .dataframe thead th {\n",
       "        text-align: right;\n",
       "    }\n",
       "</style>\n",
       "<table border=\"1\" class=\"dataframe\">\n",
       "  <thead>\n",
       "    <tr style=\"text-align: right;\">\n",
       "      <th></th>\n",
       "      <th>Category</th>\n",
       "      <th>Message</th>\n",
       "    </tr>\n",
       "  </thead>\n",
       "  <tbody>\n",
       "    <tr>\n",
       "      <th>0</th>\n",
       "      <td>ham</td>\n",
       "      <td>Go until jurong point, crazy.. Available only ...</td>\n",
       "    </tr>\n",
       "    <tr>\n",
       "      <th>1</th>\n",
       "      <td>ham</td>\n",
       "      <td>Ok lar... Joking wif u oni...</td>\n",
       "    </tr>\n",
       "    <tr>\n",
       "      <th>2</th>\n",
       "      <td>spam</td>\n",
       "      <td>Free entry in 2 a wkly comp to win FA Cup fina...</td>\n",
       "    </tr>\n",
       "    <tr>\n",
       "      <th>3</th>\n",
       "      <td>ham</td>\n",
       "      <td>U dun say so early hor... U c already then say...</td>\n",
       "    </tr>\n",
       "    <tr>\n",
       "      <th>4</th>\n",
       "      <td>ham</td>\n",
       "      <td>Nah I don't think he goes to usf, he lives aro...</td>\n",
       "    </tr>\n",
       "    <tr>\n",
       "      <th>...</th>\n",
       "      <td>...</td>\n",
       "      <td>...</td>\n",
       "    </tr>\n",
       "    <tr>\n",
       "      <th>5567</th>\n",
       "      <td>spam</td>\n",
       "      <td>This is the 2nd time we have tried 2 contact u...</td>\n",
       "    </tr>\n",
       "    <tr>\n",
       "      <th>5568</th>\n",
       "      <td>ham</td>\n",
       "      <td>Will ü b going to esplanade fr home?</td>\n",
       "    </tr>\n",
       "    <tr>\n",
       "      <th>5569</th>\n",
       "      <td>ham</td>\n",
       "      <td>Pity, * was in mood for that. So...any other s...</td>\n",
       "    </tr>\n",
       "    <tr>\n",
       "      <th>5570</th>\n",
       "      <td>ham</td>\n",
       "      <td>The guy did some bitching but I acted like i'd...</td>\n",
       "    </tr>\n",
       "    <tr>\n",
       "      <th>5571</th>\n",
       "      <td>ham</td>\n",
       "      <td>Rofl. Its true to its name</td>\n",
       "    </tr>\n",
       "  </tbody>\n",
       "</table>\n",
       "<p>5572 rows × 2 columns</p>\n",
       "</div>"
      ],
      "text/plain": [
       "     Category                                            Message\n",
       "0         ham  Go until jurong point, crazy.. Available only ...\n",
       "1         ham                      Ok lar... Joking wif u oni...\n",
       "2        spam  Free entry in 2 a wkly comp to win FA Cup fina...\n",
       "3         ham  U dun say so early hor... U c already then say...\n",
       "4         ham  Nah I don't think he goes to usf, he lives aro...\n",
       "...       ...                                                ...\n",
       "5567     spam  This is the 2nd time we have tried 2 contact u...\n",
       "5568      ham               Will ü b going to esplanade fr home?\n",
       "5569      ham  Pity, * was in mood for that. So...any other s...\n",
       "5570      ham  The guy did some bitching but I acted like i'd...\n",
       "5571      ham                         Rofl. Its true to its name\n",
       "\n",
       "[5572 rows x 2 columns]"
      ]
     },
     "execution_count": 3,
     "metadata": {},
     "output_type": "execute_result"
    }
   ],
   "source": [
    "raw_df"
   ]
  },
  {
   "cell_type": "code",
   "execution_count": 4,
   "id": "daa3366c",
   "metadata": {},
   "outputs": [],
   "source": [
    "# replace the null values with a null string\n",
    "mail_data = raw_df.where((pd.notnull(raw_df)), '')"
   ]
  },
  {
   "cell_type": "code",
   "execution_count": 5,
   "id": "3bc4e338",
   "metadata": {},
   "outputs": [
    {
     "data": {
      "text/html": [
       "<div>\n",
       "<style scoped>\n",
       "    .dataframe tbody tr th:only-of-type {\n",
       "        vertical-align: middle;\n",
       "    }\n",
       "\n",
       "    .dataframe tbody tr th {\n",
       "        vertical-align: top;\n",
       "    }\n",
       "\n",
       "    .dataframe thead th {\n",
       "        text-align: right;\n",
       "    }\n",
       "</style>\n",
       "<table border=\"1\" class=\"dataframe\">\n",
       "  <thead>\n",
       "    <tr style=\"text-align: right;\">\n",
       "      <th></th>\n",
       "      <th>Category</th>\n",
       "      <th>Message</th>\n",
       "    </tr>\n",
       "  </thead>\n",
       "  <tbody>\n",
       "    <tr>\n",
       "      <th>0</th>\n",
       "      <td>ham</td>\n",
       "      <td>Go until jurong point, crazy.. Available only ...</td>\n",
       "    </tr>\n",
       "    <tr>\n",
       "      <th>1</th>\n",
       "      <td>ham</td>\n",
       "      <td>Ok lar... Joking wif u oni...</td>\n",
       "    </tr>\n",
       "    <tr>\n",
       "      <th>2</th>\n",
       "      <td>spam</td>\n",
       "      <td>Free entry in 2 a wkly comp to win FA Cup fina...</td>\n",
       "    </tr>\n",
       "    <tr>\n",
       "      <th>3</th>\n",
       "      <td>ham</td>\n",
       "      <td>U dun say so early hor... U c already then say...</td>\n",
       "    </tr>\n",
       "    <tr>\n",
       "      <th>4</th>\n",
       "      <td>ham</td>\n",
       "      <td>Nah I don't think he goes to usf, he lives aro...</td>\n",
       "    </tr>\n",
       "  </tbody>\n",
       "</table>\n",
       "</div>"
      ],
      "text/plain": [
       "  Category                                            Message\n",
       "0      ham  Go until jurong point, crazy.. Available only ...\n",
       "1      ham                      Ok lar... Joking wif u oni...\n",
       "2     spam  Free entry in 2 a wkly comp to win FA Cup fina...\n",
       "3      ham  U dun say so early hor... U c already then say...\n",
       "4      ham  Nah I don't think he goes to usf, he lives aro..."
      ]
     },
     "execution_count": 5,
     "metadata": {},
     "output_type": "execute_result"
    }
   ],
   "source": [
    "# PRINT THE FIRST 5 ROWS OF THE DATASET\n",
    "mail_data.head()"
   ]
  },
  {
   "cell_type": "code",
   "execution_count": 6,
   "id": "ebddbfb1",
   "metadata": {},
   "outputs": [
    {
     "data": {
      "text/plain": [
       "(5572, 2)"
      ]
     },
     "execution_count": 6,
     "metadata": {},
     "output_type": "execute_result"
    }
   ],
   "source": [
    "# shape of the dataset\n",
    "mail_data.shape"
   ]
  },
  {
   "cell_type": "markdown",
   "id": "99ff572a",
   "metadata": {},
   "source": [
    "Label Encoding"
   ]
  },
  {
   "cell_type": "code",
   "execution_count": 7,
   "id": "97b610e0",
   "metadata": {},
   "outputs": [],
   "source": [
    "mail_data.replace({'Category' : {'ham' : 0, 'spam' : 1}}, inplace = True)"
   ]
  },
  {
   "cell_type": "code",
   "execution_count": 8,
   "id": "86a481c8",
   "metadata": {},
   "outputs": [
    {
     "data": {
      "text/html": [
       "<div>\n",
       "<style scoped>\n",
       "    .dataframe tbody tr th:only-of-type {\n",
       "        vertical-align: middle;\n",
       "    }\n",
       "\n",
       "    .dataframe tbody tr th {\n",
       "        vertical-align: top;\n",
       "    }\n",
       "\n",
       "    .dataframe thead th {\n",
       "        text-align: right;\n",
       "    }\n",
       "</style>\n",
       "<table border=\"1\" class=\"dataframe\">\n",
       "  <thead>\n",
       "    <tr style=\"text-align: right;\">\n",
       "      <th></th>\n",
       "      <th>Category</th>\n",
       "      <th>Message</th>\n",
       "    </tr>\n",
       "  </thead>\n",
       "  <tbody>\n",
       "    <tr>\n",
       "      <th>0</th>\n",
       "      <td>0</td>\n",
       "      <td>Go until jurong point, crazy.. Available only ...</td>\n",
       "    </tr>\n",
       "    <tr>\n",
       "      <th>1</th>\n",
       "      <td>0</td>\n",
       "      <td>Ok lar... Joking wif u oni...</td>\n",
       "    </tr>\n",
       "    <tr>\n",
       "      <th>2</th>\n",
       "      <td>1</td>\n",
       "      <td>Free entry in 2 a wkly comp to win FA Cup fina...</td>\n",
       "    </tr>\n",
       "    <tr>\n",
       "      <th>3</th>\n",
       "      <td>0</td>\n",
       "      <td>U dun say so early hor... U c already then say...</td>\n",
       "    </tr>\n",
       "    <tr>\n",
       "      <th>4</th>\n",
       "      <td>0</td>\n",
       "      <td>Nah I don't think he goes to usf, he lives aro...</td>\n",
       "    </tr>\n",
       "    <tr>\n",
       "      <th>...</th>\n",
       "      <td>...</td>\n",
       "      <td>...</td>\n",
       "    </tr>\n",
       "    <tr>\n",
       "      <th>5567</th>\n",
       "      <td>1</td>\n",
       "      <td>This is the 2nd time we have tried 2 contact u...</td>\n",
       "    </tr>\n",
       "    <tr>\n",
       "      <th>5568</th>\n",
       "      <td>0</td>\n",
       "      <td>Will ü b going to esplanade fr home?</td>\n",
       "    </tr>\n",
       "    <tr>\n",
       "      <th>5569</th>\n",
       "      <td>0</td>\n",
       "      <td>Pity, * was in mood for that. So...any other s...</td>\n",
       "    </tr>\n",
       "    <tr>\n",
       "      <th>5570</th>\n",
       "      <td>0</td>\n",
       "      <td>The guy did some bitching but I acted like i'd...</td>\n",
       "    </tr>\n",
       "    <tr>\n",
       "      <th>5571</th>\n",
       "      <td>0</td>\n",
       "      <td>Rofl. Its true to its name</td>\n",
       "    </tr>\n",
       "  </tbody>\n",
       "</table>\n",
       "<p>5572 rows × 2 columns</p>\n",
       "</div>"
      ],
      "text/plain": [
       "      Category                                            Message\n",
       "0            0  Go until jurong point, crazy.. Available only ...\n",
       "1            0                      Ok lar... Joking wif u oni...\n",
       "2            1  Free entry in 2 a wkly comp to win FA Cup fina...\n",
       "3            0  U dun say so early hor... U c already then say...\n",
       "4            0  Nah I don't think he goes to usf, he lives aro...\n",
       "...        ...                                                ...\n",
       "5567         1  This is the 2nd time we have tried 2 contact u...\n",
       "5568         0               Will ü b going to esplanade fr home?\n",
       "5569         0  Pity, * was in mood for that. So...any other s...\n",
       "5570         0  The guy did some bitching but I acted like i'd...\n",
       "5571         0                         Rofl. Its true to its name\n",
       "\n",
       "[5572 rows x 2 columns]"
      ]
     },
     "execution_count": 8,
     "metadata": {},
     "output_type": "execute_result"
    }
   ],
   "source": [
    "mail_data"
   ]
  },
  {
   "cell_type": "markdown",
   "id": "8db40c7c",
   "metadata": {},
   "source": [
    "Separating the features and labels"
   ]
  },
  {
   "cell_type": "code",
   "execution_count": 9,
   "id": "199da2f7",
   "metadata": {},
   "outputs": [],
   "source": [
    "X = mail_data['Message']\n",
    "Y = mail_data['Category']"
   ]
  },
  {
   "cell_type": "code",
   "execution_count": 10,
   "id": "e39e5a1a",
   "metadata": {},
   "outputs": [
    {
     "name": "stdout",
     "output_type": "stream",
     "text": [
      "0       Go until jurong point, crazy.. Available only ...\n",
      "1                           Ok lar... Joking wif u oni...\n",
      "2       Free entry in 2 a wkly comp to win FA Cup fina...\n",
      "3       U dun say so early hor... U c already then say...\n",
      "4       Nah I don't think he goes to usf, he lives aro...\n",
      "                              ...                        \n",
      "5567    This is the 2nd time we have tried 2 contact u...\n",
      "5568                 Will ü b going to esplanade fr home?\n",
      "5569    Pity, * was in mood for that. So...any other s...\n",
      "5570    The guy did some bitching but I acted like i'd...\n",
      "5571                           Rofl. Its true to its name\n",
      "Name: Message, Length: 5572, dtype: object\n"
     ]
    }
   ],
   "source": [
    "print(X)"
   ]
  },
  {
   "cell_type": "code",
   "execution_count": 11,
   "id": "80aff99b",
   "metadata": {},
   "outputs": [
    {
     "name": "stdout",
     "output_type": "stream",
     "text": [
      "0       0\n",
      "1       0\n",
      "2       1\n",
      "3       0\n",
      "4       0\n",
      "       ..\n",
      "5567    1\n",
      "5568    0\n",
      "5569    0\n",
      "5570    0\n",
      "5571    0\n",
      "Name: Category, Length: 5572, dtype: int64\n"
     ]
    }
   ],
   "source": [
    "print(Y)"
   ]
  },
  {
   "cell_type": "markdown",
   "id": "ea3f582d",
   "metadata": {},
   "source": [
    "Splitting the data into training and testing data"
   ]
  },
  {
   "cell_type": "code",
   "execution_count": 12,
   "id": "03056954",
   "metadata": {},
   "outputs": [],
   "source": [
    "x_train, x_test, y_train, y_test = train_test_split(X, Y, test_size = .2, stratify = Y, random_state = 2)"
   ]
  },
  {
   "cell_type": "code",
   "execution_count": 13,
   "id": "e49653b1",
   "metadata": {},
   "outputs": [
    {
     "name": "stdout",
     "output_type": "stream",
     "text": [
      "(4457,) (1115,)\n",
      "(4457,) (1115,)\n"
     ]
    }
   ],
   "source": [
    "print(x_train.shape, x_test.shape)\n",
    "print(y_train.shape, y_test.shape)"
   ]
  },
  {
   "cell_type": "markdown",
   "id": "e336337b",
   "metadata": {},
   "source": [
    "Feature extraction"
   ]
  },
  {
   "cell_type": "code",
   "execution_count": 14,
   "id": "5d4dfed0",
   "metadata": {},
   "outputs": [],
   "source": [
    "# Transform the text data to feature vector that can be used as input\n",
    "feature_extraction = TfidfVectorizer(min_df = 1, stop_words = 'english', lowercase = 'True')"
   ]
  },
  {
   "cell_type": "code",
   "execution_count": 15,
   "id": "d80e8551",
   "metadata": {},
   "outputs": [],
   "source": [
    "x_train_features = feature_extraction.fit_transform(x_train)\n",
    "x_test_features = feature_extraction.transform(x_test)"
   ]
  },
  {
   "cell_type": "code",
   "execution_count": 16,
   "id": "5d66a416",
   "metadata": {},
   "outputs": [],
   "source": [
    "#converting the y_train and y-test as integers\n",
    "y_train = y_train.astype('int')\n",
    "y_test = y_test.astype('int')"
   ]
  },
  {
   "cell_type": "code",
   "execution_count": 17,
   "id": "997a6a6f",
   "metadata": {},
   "outputs": [
    {
     "name": "stdout",
     "output_type": "stream",
     "text": [
      "  (0, 2010)\t0.19832877373922167\n",
      "  (0, 2111)\t0.12604809188195232\n",
      "  (0, 2366)\t0.13596858368909262\n",
      "  (0, 4070)\t0.10942895360863092\n",
      "  (0, 5518)\t0.2316496926325036\n",
      "  (0, 5048)\t0.6625954635560332\n",
      "  (0, 1956)\t0.44173030903735544\n",
      "  (0, 1920)\t0.2316496926325036\n",
      "  (0, 3135)\t0.11348430467691432\n",
      "  (0, 2578)\t0.21321340295490812\n",
      "  (0, 5937)\t0.1947771132773127\n",
      "  (0, 6701)\t0.15131260159017793\n",
      "  (0, 2066)\t0.2316496926325036\n",
      "  (1, 4358)\t0.46909811323167033\n",
      "  (1, 5456)\t0.6842437498161793\n",
      "  (1, 4114)\t0.4242562585988265\n",
      "  (1, 4805)\t0.3629932203770568\n",
      "  (2, 2791)\t0.35291632283354923\n",
      "  (2, 3275)\t0.219045164731788\n",
      "  (2, 3384)\t0.30174704574497613\n",
      "  (2, 1353)\t0.370148735718615\n",
      "  (2, 3957)\t0.3062249055442335\n",
      "  (2, 4416)\t0.2845146328599104\n",
      "  (2, 5335)\t0.3406897313143648\n",
      "  (2, 3743)\t0.25100491154391114\n",
      "  :\t:\n",
      "  (4453, 6799)\t0.44021473146824863\n",
      "  (4453, 5180)\t0.44021473146824863\n",
      "  (4453, 1418)\t0.35404770247824413\n",
      "  (4453, 7279)\t0.32136372886390163\n",
      "  (4453, 1072)\t0.26050854444934685\n",
      "  (4453, 3073)\t0.31461434258698556\n",
      "  (4453, 5752)\t0.26197372862610496\n",
      "  (4453, 1877)\t0.3291553235035902\n",
      "  (4453, 4805)\t0.19994301879201815\n",
      "  (4454, 6723)\t0.397459875985095\n",
      "  (4454, 1751)\t0.35321071657402264\n",
      "  (4454, 4739)\t0.3462371926754437\n",
      "  (4454, 765)\t0.32293036036704376\n",
      "  (4454, 5295)\t0.3189111582223359\n",
      "  (4454, 1671)\t0.397459875985095\n",
      "  (4454, 4519)\t0.2566185715730789\n",
      "  (4454, 6180)\t0.24101119232524562\n",
      "  (4454, 5586)\t0.2446142659447855\n",
      "  (4454, 3135)\t0.22282127451809483\n",
      "  (4455, 3180)\t1.0\n",
      "  (4456, 2595)\t0.5389251918016852\n",
      "  (4456, 4573)\t0.5389251918016852\n",
      "  (4456, 2117)\t0.5389251918016852\n",
      "  (4456, 3197)\t0.25365223527947717\n",
      "  (4456, 4160)\t0.25365223527947717\n"
     ]
    }
   ],
   "source": [
    "print(x_train_features)"
   ]
  },
  {
   "cell_type": "markdown",
   "id": "c2b2d519",
   "metadata": {},
   "source": [
    "Model training:\n",
    "\n",
    "Logistic regression"
   ]
  },
  {
   "cell_type": "code",
   "execution_count": 18,
   "id": "e25def36",
   "metadata": {},
   "outputs": [],
   "source": [
    "model =LogisticRegression()"
   ]
  },
  {
   "cell_type": "code",
   "execution_count": 19,
   "id": "399c6238",
   "metadata": {},
   "outputs": [
    {
     "data": {
      "text/plain": [
       "LogisticRegression()"
      ]
     },
     "execution_count": 19,
     "metadata": {},
     "output_type": "execute_result"
    }
   ],
   "source": [
    "model.fit(x_train_features, y_train)"
   ]
  },
  {
   "cell_type": "markdown",
   "id": "d8d00fa7",
   "metadata": {},
   "source": [
    "# Model evaluation"
   ]
  },
  {
   "cell_type": "code",
   "execution_count": 20,
   "id": "1b5bc3a4",
   "metadata": {},
   "outputs": [
    {
     "name": "stdout",
     "output_type": "stream",
     "text": [
      "ACCURACY OF THE MODEL ON TRAINING DATA :  0.9672425398249944\n"
     ]
    }
   ],
   "source": [
    "#on training data\n",
    "training_prediction = model.predict(x_train_features)\n",
    "#accuracy of the model\n",
    "training_accuracy = accuracy_score(y_train, training_prediction)\n",
    "\n",
    "print('ACCURACY OF THE MODEL ON TRAINING DATA : ', training_accuracy)"
   ]
  },
  {
   "cell_type": "code",
   "execution_count": 21,
   "id": "f15b5e49",
   "metadata": {},
   "outputs": [
    {
     "name": "stdout",
     "output_type": "stream",
     "text": [
      "ACCURACY OF THE MODEL ON TESTING DATA :  0.9605381165919282\n"
     ]
    }
   ],
   "source": [
    "#on testing data\n",
    "testing_prediction = model.predict(x_test_features)\n",
    "#accuracy of the model\n",
    "testing_accuracy = accuracy_score(y_test, testing_prediction)\n",
    "\n",
    "print('ACCURACY OF THE MODEL ON TESTING DATA : ', testing_accuracy)"
   ]
  },
  {
   "cell_type": "markdown",
   "id": "6ed51b77",
   "metadata": {},
   "source": [
    "# Building the predictive model"
   ]
  },
  {
   "cell_type": "code",
   "execution_count": 27,
   "id": "fc467e9b",
   "metadata": {},
   "outputs": [
    {
     "name": "stdout",
     "output_type": "stream",
     "text": [
      "SPAM\n"
     ]
    }
   ],
   "source": [
    "input_mail = [\"SIX chances to win CASH! From 100 to 20,000 pounds txt> CSH11 and send to 87575. Cost 150p/day, 6days, 16+ TsandCs apply Reply HL 4 info\"]\n",
    "\n",
    "# convert text to feature vector\n",
    "input_feature = feature_extraction.transform(input_mail)\n",
    "\n",
    "#making prediction\n",
    "prediction = model.predict(input_feature)\n",
    "if prediction == 1:\n",
    "    print('SPAM')\n",
    "else:\n",
    "    print('HAM')"
   ]
  },
  {
   "cell_type": "code",
   "execution_count": null,
   "id": "c3ed0345",
   "metadata": {},
   "outputs": [],
   "source": []
  }
 ],
 "metadata": {
  "kernelspec": {
   "display_name": "Python 3",
   "language": "python",
   "name": "python3"
  },
  "language_info": {
   "codemirror_mode": {
    "name": "ipython",
    "version": 3
   },
   "file_extension": ".py",
   "mimetype": "text/x-python",
   "name": "python",
   "nbconvert_exporter": "python",
   "pygments_lexer": "ipython3",
   "version": "3.8.8"
  }
 },
 "nbformat": 4,
 "nbformat_minor": 5
}
